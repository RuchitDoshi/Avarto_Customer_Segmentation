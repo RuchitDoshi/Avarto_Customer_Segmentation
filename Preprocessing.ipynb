{
 "cells": [
  {
   "cell_type": "markdown",
   "metadata": {},
   "source": [
    "# Import Libraries"
   ]
  },
  {
   "cell_type": "code",
   "execution_count": 1,
   "metadata": {},
   "outputs": [],
   "source": [
    "# import libraries here; add more as necessary\n",
    "import numpy as np\n",
    "import pandas as pd\n",
    "import matplotlib.pyplot as plt\n",
    "import seaborn as sns\n",
    "from sklearn.preprocessing import StandardScaler\n",
    "from sklearn.decomposition import PCA\n",
    "from sklearn.cluster import KMeans, MiniBatchKMeans\n",
    "from sklearn.model_selection import GridSearchCV\n",
    "from sklearn.metrics import roc_auc_score\n",
    "# magic word for producing visualizations in notebook\n",
    "%matplotlib inline"
   ]
  },
  {
   "cell_type": "markdown",
   "metadata": {},
   "source": [
    "# Data Visualization"
   ]
  },
  {
   "cell_type": "code",
   "execution_count": 2,
   "metadata": {},
   "outputs": [
    {
     "name": "stderr",
     "output_type": "stream",
     "text": [
      "/home/cmu/anaconda3/lib/python3.7/site-packages/IPython/core/interactiveshell.py:3063: DtypeWarning: Columns (18,19) have mixed types.Specify dtype option on import or set low_memory=False.\n",
      "  interactivity=interactivity, compiler=compiler, result=result)\n"
     ]
    }
   ],
   "source": [
    "azdias = pd.read_csv('../capstone_data/Udacity_AZDIAS_052018.csv')\n",
    "# customers = pd.read_csv('../capstone_data/Udacity_CUSTOMERS_052018.csv')"
   ]
  },
  {
   "cell_type": "code",
   "execution_count": null,
   "metadata": {},
   "outputs": [],
   "source": [
    "# mailout_train=pd.read_csv('../capstone_data/Udacity_MAILOUT_052018_TRAIN.csv')\n",
    "# mailout_test=pd.read_csv('../capstone_data/Udacity_MAILOUT_052018_TEST.csv')"
   ]
  },
  {
   "cell_type": "markdown",
   "metadata": {},
   "source": [
    "# Data Preprcocessing"
   ]
  },
  {
   "cell_type": "code",
   "execution_count": 3,
   "metadata": {},
   "outputs": [],
   "source": [
    "def Attribute_Unknown_Dict(path,df):\n",
    "    '''\n",
    "    Purpose: Map all the attributes to their unknown values in a dictionary\n",
    "    \n",
    "    Input: PATH TO DIAS Attributes - Values 2017.xlsx file, in str format\n",
    "    \n",
    "    Output:\n",
    "    new_dict:Dictionary with attributes as key and the unknown meaning values in a list\n",
    "    '''\n",
    "    #reading the xlsx file and storing it in a dataframe\n",
    "    attributes=pd.read_excel(path,skiprows=1)\n",
    "    \n",
    "    #formatting\n",
    "    attributes=attributes.drop(['Unnamed: 0'],axis=1,inplace=False)\n",
    "    \n",
    "    #Droping all the rows with nan values. Since, all the first values refer to the unknown meaning category\\\n",
    "    #Only keeping the first row for each attribute works\n",
    "    attributes=attributes.dropna()\n",
    "    \n",
    "    new_dict={}\n",
    "    for i in range(attributes.shape[0]):\n",
    "        #checking if it corresponds to the unknown value\n",
    "        if ('unknown' in attributes['Meaning'].iloc[i].split()) or(attributes['Meaning'].iloc[i] == 'no transaction known'):\n",
    "            new_list=[]\n",
    "            if type(attributes['Value'].iloc[i])==int:\n",
    "                new_list.append(attributes['Value'].iloc[i])\n",
    "            else:\n",
    "                for j in attributes['Value'].iloc[i].split(','):\n",
    "                    new_list.append(int(j))\n",
    "\n",
    "            new_dict[attributes['Attribute'].iloc[i]]=new_list\n",
    "    \n",
    "    #These columns are not present in  the actual dataset\n",
    "    new_dict.pop('BIP_FLAG')\n",
    "    new_dict.pop('GEOSCORE_KLS7')\n",
    "    new_dict.pop('HAUSHALTSSTRUKTUR')\n",
    "    new_dict.pop('SOHO_FLAG')\n",
    "    new_dict.pop('WACHSTUMSGEBIET_NB')\n",
    "    \n",
    "    \n",
    "    #Removing name '_RZ' from the end of each column name\n",
    "    for i in new_dict:\n",
    "        if i not in df.columns:\n",
    "            new_dict[i[:-3]]=new_dict.pop(i)\n",
    "    \n",
    "    #removing the last key_value pair\n",
    "    new_dict.pop('')\n",
    "    \n",
    "    \n",
    "    return new_dict"
   ]
  },
  {
   "cell_type": "markdown",
   "metadata": {},
   "source": [
    "Mapping the unknown values to nan with the help of the attribute_dict"
   ]
  },
  {
   "cell_type": "code",
   "execution_count": 32,
   "metadata": {},
   "outputs": [],
   "source": [
    "#replacing unknown values with nan\n",
    "def Map_unknown_to_NAN(df,attribute_dict):\n",
    "    '''\n",
    "    Replace the unknown values with NAN values in the df\n",
    "    ARGS:\n",
    "    df: Dataframe on which the mapping takes place like azdias\n",
    "    attribute_dict: Dict with attribute as keys and values which are to replaced with NAN\n",
    "    \n",
    "    Output:\n",
    "    df: transformed df with more null values\n",
    "    \n",
    "    '''\n",
    "    #Replacing \n",
    "    for key,val in attribute_dict.items():\n",
    "        for j in val:\n",
    "            df[key]=df[key].replace(j,np.nan)\n",
    "            \n",
    "    #listing the columns which have more than 50% null values\n",
    "    drop_col_list=list(df.isnull().sum(axis=0)[df.isnull().sum(axis=0)>0.50*(df.shape[0])]\\\n",
    "                   .reset_index()['index'])\n",
    "    df.drop(drop_col_list,axis=1,inplace=True)\n",
    "    \n",
    "#     #listing the index of the rows which have more than 20% nan values and droping them\n",
    "#     drop_row_list=list(azdias.isnull().sum(axis=1)[azdias.isnull().sum(axis=1)>(0.2*azdias.shape[1])].reset_index()['index'])\n",
    "#     df=df.drop(index=drop_row_list)\n",
    "    \n",
    "                \n",
    "    return df"
   ]
  },
  {
   "cell_type": "markdown",
   "metadata": {},
   "source": [
    "We need to replace these values with NAN value and convert CAMEO_INTL_2015 and CAMEO_DEUG_2015 into numerical entries"
   ]
  },
  {
   "cell_type": "code",
   "execution_count": 5,
   "metadata": {},
   "outputs": [],
   "source": [
    "def cat_to_num(df):\n",
    "    '''\n",
    "    converting columns which are categorical to numerical and droping other categorical columns\n",
    "    INput: \n",
    "    df: DataFrame to be processed\n",
    "    \n",
    "    Output:\n",
    "    df: After droping and converting categorical columns\n",
    "    \n",
    "    '''\n",
    "    \n",
    "    #converting CAMEO_INTL_2015 AND CAMEO_DEUB_2015 into numerical values\n",
    "    intl=[]\n",
    "    deug=[]\n",
    "    for i in range(len(df['CAMEO_INTL_2015'])):\n",
    "        if type(df['CAMEO_INTL_2015'].iloc[i])==str and df['CAMEO_INTL_2015'].iloc[i][0]=='X':\n",
    "            intl.append(np.nan)\n",
    "        else:\n",
    "            intl.append(float(df['CAMEO_INTL_2015'].iloc[i]))\n",
    "        if type(df['CAMEO_INTL_2015'].iloc[i])==str and df['CAMEO_DEUG_2015'].iloc[i][0]=='X':\n",
    "            deug.append(np.nan)\n",
    "        else:\n",
    "            deug.append(float(df['CAMEO_DEUG_2015'].iloc[i]))\n",
    "    \n",
    "    #droping the original columns\n",
    "    df=df.drop(['CAMEO_INTL_2015','CAMEO_DEUG_2015'],axis=1,inplace=False)\n",
    "    #Adding new columns\n",
    "    df['CAMEO_INTL_2015']=intl\n",
    "    df['CAMEO_DEUG_2015']=deug\n",
    "    \n",
    "    #droping 'LNR' AND 'VERDICHTUNGSRAUM' columns\n",
    "    #droping the 'LP_FAMILIE_GROB' column because it very similar 'LP_FAMILIE_FEIN'\n",
    "\n",
    "    df=df.drop(['LNR','VERDICHTUNGSRAUM','LP_FAMILIE_GROB'],axis=1,inplace=False)\n",
    "    \n",
    "    return df\n",
    "    "
   ]
  },
  {
   "cell_type": "markdown",
   "metadata": {},
   "source": [
    "Mixed Categories can be segregated into individual categories. For example, 'CAMEO_INTL_2015' can be split into 'WEALTH' and 'LIFE_CYCLE'. Similarly, we can split 'PRAEGENDE_JUGENDJAHRE' into 'MOVEMENT' AND 'GENERATION'"
   ]
  },
  {
   "cell_type": "code",
   "execution_count": 6,
   "metadata": {},
   "outputs": [],
   "source": [
    "def mixed_categories(df):\n",
    "    '''\n",
    "    Spliting mixed attributes into individua;\n",
    "    Input:\n",
    "    df: DataFrame to be processed\n",
    "    \n",
    "    Output:\n",
    "    df\n",
    "    '''\n",
    "    \n",
    "    df['WEALTH']=df['CAMEO_INTL_2015'].apply(lambda x:x/10)\n",
    "    df['LIFE_CYCLE']=df['CAMEO_INTL_2015'].apply(lambda x:x%10)\n",
    "    \n",
    "    mainstream=[1.0, 3.0, 5.0, 8.0, 10.0, 12.0, 14.0]\n",
    "    avantgarde=[2.0, 4.0, 6.0, 7.0, 9.0, 11.0, 13.0, 15.0]\n",
    "    \n",
    "    main=df['PRAEGENDE_JUGENDJAHRE'].isin([1.0, 3.0, 5.0, 8.0, 10.0, 12.0, 14.0])\n",
    "    avar=df['PRAEGENDE_JUGENDJAHRE'].isin([2.0, 4.0, 6.0, 7.0, 9.0, 11.0, 13.0, 15.0])\n",
    "    \n",
    "    df.loc[main,'MOVEMENT']=1.0\n",
    "    df.loc[avar,'MOVEMENT']=2.0\n",
    "    \n",
    "    df=df.drop(['CAMEO_INTL_2015','PRAEGENDE_JUGENDJAHRE', 'EINGEFUEGT_AM','D19_LETZTER_KAUF_BRANCHE'],axis=1,inplace=False)\n",
    "    \n",
    "    df['OST_WEST_KZ'] = df['OST_WEST_KZ'].replace({'O':1.0, 'W':2.0})\n",
    "    \n",
    "    new_df=pd.get_dummies(df,columns=['CAMEO_DEU_2015'])\n",
    "    \n",
    "    new_df=new_df.drop(['CAMEO_DEU_2015_XX'],axis=1,inplace=False)\n",
    "    \n",
    "    return new_df\n",
    "    \n",
    "    "
   ]
  },
  {
   "cell_type": "code",
   "execution_count": 7,
   "metadata": {},
   "outputs": [],
   "source": [
    "def impute_and_standardize(df):\n",
    "    '''\n",
    "    Replacing all the null values with mean of the column\n",
    "    \n",
    "    '''\n",
    "    \n",
    "    fill_mean=lambda col:col.fillna(col.mean())\n",
    "    df=df.apply(fill_mean,axis=0)\n",
    "    \n",
    "    scaler=StandardScaler()\n",
    "    \n",
    "    df=scaler.fit_transform(df)\n",
    "    \n",
    "    return df"
   ]
  },
  {
   "cell_type": "code",
   "execution_count": 8,
   "metadata": {},
   "outputs": [],
   "source": [
    "def clean_data(df):\n",
    "    '''\n",
    "    Function which integrates all the above functions and returns clean dataFrame\n",
    "    Input: data to be cleaned in dataFrame \n",
    "    \n",
    "    Output: clean data Frame\n",
    "    '''\n",
    "    \n",
    "    #Map all the attributes to their unknown values in a dictionary\n",
    "    attribute_dict=Attribute_Unknown_Dict('../capstone_data/DIAS Attributes - Values 2017.xlsx',df)\n",
    "    \n",
    "    df=Map_unknown_to_NAN(df,attribute_dict)\n",
    "    \n",
    "    df=cat_to_num(df)\n",
    "    \n",
    "    df=mixed_categories(df)\n",
    "    df_col=df.columns\n",
    "    df=impute_and_standardize(df)\n",
    "    \n",
    "    \n",
    "    \n",
    "    return df,df_col\n",
    "                                          "
   ]
  },
  {
   "cell_type": "code",
   "execution_count": 9,
   "metadata": {},
   "outputs": [],
   "source": [
    "clean_azdias,azdias_col=clean_data(azdias)"
   ]
  },
  {
   "cell_type": "code",
   "execution_count": 10,
   "metadata": {},
   "outputs": [],
   "source": [
    "del azdias"
   ]
  },
  {
   "cell_type": "markdown",
   "metadata": {},
   "source": [
    "# PCA "
   ]
  },
  {
   "cell_type": "code",
   "execution_count": 13,
   "metadata": {},
   "outputs": [],
   "source": [
    "n_components=int((clean_azdias.shape[1])/1.8)\n",
    "\n",
    "pca = PCA(n_components)\n",
    "df_pca = pca.fit_transform(clean_azdias)"
   ]
  },
  {
   "cell_type": "code",
   "execution_count": 14,
   "metadata": {},
   "outputs": [
    {
     "data": {
      "image/png": "[encoded data removed]",
      "text/plain": [
       "<Figure size 720x576 with 1 Axes>"
      ]
     },
     "metadata": {
      "needs_background": "light"
     },
     "output_type": "display_data"
    }
   ],
   "source": [
    "index=np.arange(n_components)\n",
    "value=pca.explained_variance_ratio_\n",
    "\n",
    "plt.figure(figsize=(10, 8))\n",
    "ax = plt.subplot()\n",
    "cum_value = np.cumsum(value)\n",
    "ax.bar(index, value)\n",
    "ax.plot(index, cum_value)\n",
    "for i in range(n_components):\n",
    "    ax.xaxis.set_tick_params(width=0)\n",
    "    ax.yaxis.set_tick_params(width=3, length=12)\n",
    "\n",
    "    ax.set_xlabel(\"No of Principal Components\")\n",
    "    ax.set_ylabel(\"Variance (%)\")\n",
    "    plt.title('Variance Per Principal Component')"
   ]
  },
  {
   "cell_type": "code",
   "execution_count": 15,
   "metadata": {},
   "outputs": [
    {
     "data": {
      "text/plain": [
       "0.921964550914719"
      ]
     },
     "execution_count": 15,
     "metadata": {},
     "output_type": "execute_result"
    }
   ],
   "source": [
    "sum(pca.explained_variance_ratio_)"
   ]
  },
  {
   "cell_type": "code",
   "execution_count": 16,
   "metadata": {},
   "outputs": [
    {
     "data": {
      "text/plain": [
       "201"
      ]
     },
     "execution_count": 16,
     "metadata": {},
     "output_type": "execute_result"
    }
   ],
   "source": [
    "n_components"
   ]
  },
  {
   "cell_type": "code",
   "execution_count": 17,
   "metadata": {},
   "outputs": [],
   "source": [
    "#Converting the PCA components to the features of the clean dataset. \n",
    "#Mapping each feature to the principal components\n",
    "\n",
    "dim =['Dimension' +str(i) for i in range(1,len(pca.components_)+1)]\n",
    "comp_dist=pd.DataFrame(np.round(pca.components_,5),columns=azdias_col)\n",
    "comp_dist.index=dim"
   ]
  },
  {
   "cell_type": "code",
   "execution_count": 18,
   "metadata": {},
   "outputs": [
    {
     "data": {
      "text/html": [
       "<div>\n",
       "<style scoped>\n",
       "    .dataframe tbody tr th:only-of-type {\n",
       "        vertical-align: middle;\n",
       "    }\n",
       "\n",
       "    .dataframe tbody tr th {\n",
       "        vertical-align: top;\n",
       "    }\n",
       "\n",
       "    .dataframe thead th {\n",
       "        text-align: right;\n",
       "    }\n",
       "</style>\n",
       "<table border=\"1\" class=\"dataframe\">\n",
       "  <thead>\n",
       "    <tr style=\"text-align: right;\">\n",
       "      <th></th>\n",
       "      <th>AKT_DAT_KL</th>\n",
       "      <th>ALTER_HH</th>\n",
       "      <th>ALTERSKATEGORIE_FEIN</th>\n",
       "      <th>ANZ_HAUSHALTE_AKTIV</th>\n",
       "      <th>ANZ_HH_TITEL</th>\n",
       "      <th>ANZ_KINDER</th>\n",
       "      <th>ANZ_PERSONEN</th>\n",
       "      <th>ANZ_STATISTISCHE_HAUSHALTE</th>\n",
       "      <th>ANZ_TITEL</th>\n",
       "      <th>ARBEIT</th>\n",
       "      <th>...</th>\n",
       "      <th>CAMEO_DEU_2015_7E</th>\n",
       "      <th>CAMEO_DEU_2015_8A</th>\n",
       "      <th>CAMEO_DEU_2015_8B</th>\n",
       "      <th>CAMEO_DEU_2015_8C</th>\n",
       "      <th>CAMEO_DEU_2015_8D</th>\n",
       "      <th>CAMEO_DEU_2015_9A</th>\n",
       "      <th>CAMEO_DEU_2015_9B</th>\n",
       "      <th>CAMEO_DEU_2015_9C</th>\n",
       "      <th>CAMEO_DEU_2015_9D</th>\n",
       "      <th>CAMEO_DEU_2015_9E</th>\n",
       "    </tr>\n",
       "  </thead>\n",
       "  <tbody>\n",
       "    <tr>\n",
       "      <th>Dimension1</th>\n",
       "      <td>-0.06112</td>\n",
       "      <td>0.01342</td>\n",
       "      <td>-0.01087</td>\n",
       "      <td>-0.07998</td>\n",
       "      <td>-0.01833</td>\n",
       "      <td>0.02989</td>\n",
       "      <td>0.07080</td>\n",
       "      <td>-0.07839</td>\n",
       "      <td>0.00264</td>\n",
       "      <td>-0.09403</td>\n",
       "      <td>...</td>\n",
       "      <td>-0.00316</td>\n",
       "      <td>-0.04535</td>\n",
       "      <td>-0.02799</td>\n",
       "      <td>-0.02383</td>\n",
       "      <td>-0.02191</td>\n",
       "      <td>-0.02338</td>\n",
       "      <td>-0.04239</td>\n",
       "      <td>-0.04343</td>\n",
       "      <td>-0.04309</td>\n",
       "      <td>-0.01330</td>\n",
       "    </tr>\n",
       "    <tr>\n",
       "      <th>Dimension2</th>\n",
       "      <td>0.01569</td>\n",
       "      <td>-0.02238</td>\n",
       "      <td>-0.01886</td>\n",
       "      <td>0.02030</td>\n",
       "      <td>0.02717</td>\n",
       "      <td>-0.01505</td>\n",
       "      <td>-0.02432</td>\n",
       "      <td>0.01958</td>\n",
       "      <td>0.01148</td>\n",
       "      <td>-0.03619</td>\n",
       "      <td>...</td>\n",
       "      <td>-0.00530</td>\n",
       "      <td>-0.00835</td>\n",
       "      <td>0.02904</td>\n",
       "      <td>-0.02554</td>\n",
       "      <td>-0.01858</td>\n",
       "      <td>-0.01086</td>\n",
       "      <td>-0.01850</td>\n",
       "      <td>0.00291</td>\n",
       "      <td>-0.00090</td>\n",
       "      <td>0.00889</td>\n",
       "    </tr>\n",
       "    <tr>\n",
       "      <th>Dimension3</th>\n",
       "      <td>-0.00828</td>\n",
       "      <td>0.15035</td>\n",
       "      <td>0.14288</td>\n",
       "      <td>0.00695</td>\n",
       "      <td>-0.00352</td>\n",
       "      <td>0.07783</td>\n",
       "      <td>0.07874</td>\n",
       "      <td>0.00288</td>\n",
       "      <td>-0.00247</td>\n",
       "      <td>0.00473</td>\n",
       "      <td>...</td>\n",
       "      <td>-0.00796</td>\n",
       "      <td>0.01176</td>\n",
       "      <td>0.01564</td>\n",
       "      <td>-0.00221</td>\n",
       "      <td>-0.01782</td>\n",
       "      <td>0.01571</td>\n",
       "      <td>0.01438</td>\n",
       "      <td>0.01673</td>\n",
       "      <td>0.01244</td>\n",
       "      <td>-0.02166</td>\n",
       "    </tr>\n",
       "  </tbody>\n",
       "</table>\n",
       "<p>3 rows × 363 columns</p>\n",
       "</div>"
      ],
      "text/plain": [
       "            AKT_DAT_KL  ALTER_HH  ALTERSKATEGORIE_FEIN  ANZ_HAUSHALTE_AKTIV  \\\n",
       "Dimension1    -0.06112   0.01342              -0.01087             -0.07998   \n",
       "Dimension2     0.01569  -0.02238              -0.01886              0.02030   \n",
       "Dimension3    -0.00828   0.15035               0.14288              0.00695   \n",
       "\n",
       "            ANZ_HH_TITEL  ANZ_KINDER  ANZ_PERSONEN  \\\n",
       "Dimension1      -0.01833     0.02989       0.07080   \n",
       "Dimension2       0.02717    -0.01505      -0.02432   \n",
       "Dimension3      -0.00352     0.07783       0.07874   \n",
       "\n",
       "            ANZ_STATISTISCHE_HAUSHALTE  ANZ_TITEL   ARBEIT  ...  \\\n",
       "Dimension1                    -0.07839    0.00264 -0.09403  ...   \n",
       "Dimension2                     0.01958    0.01148 -0.03619  ...   \n",
       "Dimension3                     0.00288   -0.00247  0.00473  ...   \n",
       "\n",
       "            CAMEO_DEU_2015_7E  CAMEO_DEU_2015_8A  CAMEO_DEU_2015_8B  \\\n",
       "Dimension1           -0.00316           -0.04535           -0.02799   \n",
       "Dimension2           -0.00530           -0.00835            0.02904   \n",
       "Dimension3           -0.00796            0.01176            0.01564   \n",
       "\n",
       "            CAMEO_DEU_2015_8C  CAMEO_DEU_2015_8D  CAMEO_DEU_2015_9A  \\\n",
       "Dimension1           -0.02383           -0.02191           -0.02338   \n",
       "Dimension2           -0.02554           -0.01858           -0.01086   \n",
       "Dimension3           -0.00221           -0.01782            0.01571   \n",
       "\n",
       "            CAMEO_DEU_2015_9B  CAMEO_DEU_2015_9C  CAMEO_DEU_2015_9D  \\\n",
       "Dimension1           -0.04239           -0.04343           -0.04309   \n",
       "Dimension2           -0.01850            0.00291           -0.00090   \n",
       "Dimension3            0.01438            0.01673            0.01244   \n",
       "\n",
       "            CAMEO_DEU_2015_9E  \n",
       "Dimension1           -0.01330  \n",
       "Dimension2            0.00889  \n",
       "Dimension3           -0.02166  \n",
       "\n",
       "[3 rows x 363 columns]"
      ]
     },
     "execution_count": 18,
     "metadata": {},
     "output_type": "execute_result"
    }
   ],
   "source": [
    "comp_dist.head(3)"
   ]
  },
  {
   "cell_type": "code",
   "execution_count": 19,
   "metadata": {},
   "outputs": [
    {
     "data": {
      "text/plain": [
       "MOBI_REGIO      0.14437\n",
       "PLZ8_ANTG1      0.14269\n",
       "KBA13_ANTG1     0.14213\n",
       "KBA05_ANTG1     0.13422\n",
       "MOBI_RASTER     0.13274\n",
       "                 ...   \n",
       "PLZ8_ANTG4     -0.13624\n",
       "KBA13_BAUMAX   -0.13700\n",
       "KBA13_ANTG4    -0.13775\n",
       "KBA13_ANTG3    -0.14113\n",
       "PLZ8_ANTG3     -0.14163\n",
       "Name: Dimension1, Length: 363, dtype: float64"
      ]
     },
     "execution_count": 19,
     "metadata": {},
     "output_type": "execute_result"
    }
   ],
   "source": [
    "comp_dist.iloc[0].sort_values(ascending=False)"
   ]
  },
  {
   "cell_type": "code",
   "execution_count": 20,
   "metadata": {},
   "outputs": [
    {
     "data": {
      "text/plain": [
       "KBA13_HERST_BMW_BENZ           0.18315\n",
       "KBA13_MERCEDES                 0.15690\n",
       "KBA13_SEG_OBEREMITTELKLASSE    0.15629\n",
       "KBA13_BMW                      0.15229\n",
       "KBA13_SITZE_4                  0.14574\n",
       "                                ...   \n",
       "KBA13_KMH_180                 -0.12094\n",
       "KBA13_HALTER_25               -0.12098\n",
       "KBA13_SEG_KLEINWAGEN          -0.13142\n",
       "KBA13_KMH_140_210             -0.13198\n",
       "KBA13_SITZE_5                 -0.15013\n",
       "Name: Dimension2, Length: 363, dtype: float64"
      ]
     },
     "execution_count": 20,
     "metadata": {},
     "output_type": "execute_result"
    }
   ],
   "source": [
    "comp_dist.iloc[1].sort_values(ascending=False)"
   ]
  },
  {
   "cell_type": "code",
   "execution_count": 21,
   "metadata": {},
   "outputs": [
    {
     "data": {
      "text/plain": [
       "FINANZ_VORSORGER         0.13537\n",
       "ALTERSKATEGORIE_GROB     0.13130\n",
       "D19_GESAMT_ANZ_24        0.12884\n",
       "D19_GESAMT_ANZ_12        0.12424\n",
       "D19_VERSAND_ANZ_24       0.11978\n",
       "                          ...   \n",
       "CJT_TYP_2               -0.14797\n",
       "CJT_TYP_1               -0.15497\n",
       "FINANZ_UNAUFFAELLIGER   -0.15600\n",
       "FINANZ_ANLEGER          -0.15780\n",
       "FINANZ_SPARER           -0.16038\n",
       "Name: Dimension4, Length: 363, dtype: float64"
      ]
     },
     "execution_count": 21,
     "metadata": {},
     "output_type": "execute_result"
    }
   ],
   "source": [
    "comp_dist.iloc[3].sort_values(ascending=False)"
   ]
  },
  {
   "cell_type": "code",
   "execution_count": 25,
   "metadata": {},
   "outputs": [
    {
     "data": {
      "text/plain": [
       "(891221, 201)"
      ]
     },
     "execution_count": 25,
     "metadata": {},
     "output_type": "execute_result"
    }
   ],
   "source": [
    "df_pca.shape"
   ]
  },
  {
   "cell_type": "markdown",
   "metadata": {},
   "source": [
    "# Clustering Azdias_df"
   ]
  },
  {
   "cell_type": "code",
   "execution_count": 22,
   "metadata": {},
   "outputs": [],
   "source": [
    "score=[]\n",
    "centers=np.arange(10,31)\n",
    "\n",
    "for i in centers:\n",
    "    \n",
    "    k_mean=MiniBatchKMeans(n_clusters=i).fit(df_pca)\n",
    "    #Append the score with different centers\n",
    "    score.append(np.abs(k_mean.score(df_pca)))"
   ]
  },
  {
   "cell_type": "code",
   "execution_count": 23,
   "metadata": {},
   "outputs": [
    {
     "data": {
      "text/plain": [
       "Text(0.5, 1.0, 'Sum of Squared distance for different no of centers')"
      ]
     },
     "execution_count": 23,
     "metadata": {},
     "output_type": "execute_result"
    },
    {
     "data": {
      "image/png": "[encoded data removed]",
      "text/plain": [
       "<Figure size 432x288 with 1 Axes>"
      ]
     },
     "metadata": {
      "needs_background": "light"
     },
     "output_type": "display_data"
    }
   ],
   "source": [
    "plt.plot(centers,score,marker='^')\n",
    "plt.xlabel('No of centers')\n",
    "plt.ylabel('SSE')\n",
    "plt.title('Sum of Squared distance for different no of centers')"
   ]
  },
  {
   "cell_type": "code",
   "execution_count": 26,
   "metadata": {},
   "outputs": [],
   "source": [
    "kmeans=KMeans(n_clusters=30)\n",
    "df_kmeans=kmeans.fit_predict(df_pca)"
   ]
  },
  {
   "cell_type": "code",
   "execution_count": null,
   "metadata": {},
   "outputs": [],
   "source": [
    "t=np.round(pca.components_,5).reshape(-1,len(dim))"
   ]
  },
  {
   "cell_type": "code",
   "execution_count": null,
   "metadata": {},
   "outputs": [],
   "source": [
    "t.shape"
   ]
  },
  {
   "cell_type": "code",
   "execution_count": null,
   "metadata": {},
   "outputs": [],
   "source": [
    "df_kmeans.shape"
   ]
  },
  {
   "cell_type": "code",
   "execution_count": 28,
   "metadata": {},
   "outputs": [
    {
     "data": {
      "text/html": [
       "<div>\n",
       "<style scoped>\n",
       "    .dataframe tbody tr th:only-of-type {\n",
       "        vertical-align: middle;\n",
       "    }\n",
       "\n",
       "    .dataframe tbody tr th {\n",
       "        vertical-align: top;\n",
       "    }\n",
       "\n",
       "    .dataframe thead th {\n",
       "        text-align: right;\n",
       "    }\n",
       "</style>\n",
       "<table border=\"1\" class=\"dataframe\">\n",
       "  <thead>\n",
       "    <tr style=\"text-align: right;\">\n",
       "      <th></th>\n",
       "      <th>Cluster</th>\n",
       "      <th>Dimension1</th>\n",
       "      <th>Dimension2</th>\n",
       "      <th>Dimension3</th>\n",
       "      <th>Dimension4</th>\n",
       "      <th>Dimension5</th>\n",
       "      <th>Dimension6</th>\n",
       "      <th>Dimension7</th>\n",
       "      <th>Dimension8</th>\n",
       "      <th>Dimension9</th>\n",
       "      <th>...</th>\n",
       "      <th>Dimension192</th>\n",
       "      <th>Dimension193</th>\n",
       "      <th>Dimension194</th>\n",
       "      <th>Dimension195</th>\n",
       "      <th>Dimension196</th>\n",
       "      <th>Dimension197</th>\n",
       "      <th>Dimension198</th>\n",
       "      <th>Dimension199</th>\n",
       "      <th>Dimension200</th>\n",
       "      <th>Dimension201</th>\n",
       "    </tr>\n",
       "  </thead>\n",
       "  <tbody>\n",
       "    <tr>\n",
       "      <th>0</th>\n",
       "      <td>28</td>\n",
       "      <td>-1.04178</td>\n",
       "      <td>0.58871</td>\n",
       "      <td>-3.15077</td>\n",
       "      <td>-1.11485</td>\n",
       "      <td>0.17407</td>\n",
       "      <td>-0.24985</td>\n",
       "      <td>-0.42848</td>\n",
       "      <td>0.27544</td>\n",
       "      <td>-0.50469</td>\n",
       "      <td>...</td>\n",
       "      <td>0.10586</td>\n",
       "      <td>0.11510</td>\n",
       "      <td>0.71211</td>\n",
       "      <td>0.14001</td>\n",
       "      <td>-0.45764</td>\n",
       "      <td>-0.27565</td>\n",
       "      <td>-0.39455</td>\n",
       "      <td>-0.29919</td>\n",
       "      <td>0.03516</td>\n",
       "      <td>0.58971</td>\n",
       "    </tr>\n",
       "    <tr>\n",
       "      <th>1</th>\n",
       "      <td>10</td>\n",
       "      <td>-4.15687</td>\n",
       "      <td>5.35438</td>\n",
       "      <td>4.01153</td>\n",
       "      <td>-5.78297</td>\n",
       "      <td>0.48602</td>\n",
       "      <td>3.35849</td>\n",
       "      <td>-3.79806</td>\n",
       "      <td>0.55148</td>\n",
       "      <td>0.25724</td>\n",
       "      <td>...</td>\n",
       "      <td>-0.37591</td>\n",
       "      <td>0.14128</td>\n",
       "      <td>0.17835</td>\n",
       "      <td>0.31736</td>\n",
       "      <td>0.33517</td>\n",
       "      <td>0.52263</td>\n",
       "      <td>0.02368</td>\n",
       "      <td>0.66786</td>\n",
       "      <td>1.08540</td>\n",
       "      <td>-0.21511</td>\n",
       "    </tr>\n",
       "    <tr>\n",
       "      <th>2</th>\n",
       "      <td>10</td>\n",
       "      <td>0.83112</td>\n",
       "      <td>3.05910</td>\n",
       "      <td>-1.28712</td>\n",
       "      <td>-3.05368</td>\n",
       "      <td>4.92575</td>\n",
       "      <td>-6.23849</td>\n",
       "      <td>-0.40429</td>\n",
       "      <td>-2.37726</td>\n",
       "      <td>1.68692</td>\n",
       "      <td>...</td>\n",
       "      <td>0.34279</td>\n",
       "      <td>0.27036</td>\n",
       "      <td>-0.40964</td>\n",
       "      <td>-0.39461</td>\n",
       "      <td>0.45014</td>\n",
       "      <td>-0.88653</td>\n",
       "      <td>-1.20327</td>\n",
       "      <td>0.92056</td>\n",
       "      <td>-0.00339</td>\n",
       "      <td>-0.57601</td>\n",
       "    </tr>\n",
       "    <tr>\n",
       "      <th>3</th>\n",
       "      <td>25</td>\n",
       "      <td>5.34641</td>\n",
       "      <td>1.33627</td>\n",
       "      <td>-5.04786</td>\n",
       "      <td>-2.72614</td>\n",
       "      <td>-0.95218</td>\n",
       "      <td>1.15366</td>\n",
       "      <td>-1.43716</td>\n",
       "      <td>-1.43916</td>\n",
       "      <td>-2.63117</td>\n",
       "      <td>...</td>\n",
       "      <td>1.45164</td>\n",
       "      <td>0.54156</td>\n",
       "      <td>0.27683</td>\n",
       "      <td>1.04439</td>\n",
       "      <td>0.02290</td>\n",
       "      <td>1.35529</td>\n",
       "      <td>-0.39524</td>\n",
       "      <td>-0.36100</td>\n",
       "      <td>0.08803</td>\n",
       "      <td>-0.36264</td>\n",
       "    </tr>\n",
       "    <tr>\n",
       "      <th>4</th>\n",
       "      <td>14</td>\n",
       "      <td>4.00906</td>\n",
       "      <td>0.64782</td>\n",
       "      <td>10.07008</td>\n",
       "      <td>8.03038</td>\n",
       "      <td>-3.88573</td>\n",
       "      <td>-0.75030</td>\n",
       "      <td>3.37293</td>\n",
       "      <td>-3.33334</td>\n",
       "      <td>-0.21971</td>\n",
       "      <td>...</td>\n",
       "      <td>1.28007</td>\n",
       "      <td>0.99303</td>\n",
       "      <td>-0.68809</td>\n",
       "      <td>-0.23480</td>\n",
       "      <td>0.17220</td>\n",
       "      <td>-0.67771</td>\n",
       "      <td>-0.31977</td>\n",
       "      <td>-1.64303</td>\n",
       "      <td>1.01603</td>\n",
       "      <td>-0.67538</td>\n",
       "    </tr>\n",
       "  </tbody>\n",
       "</table>\n",
       "<p>5 rows × 202 columns</p>\n",
       "</div>"
      ],
      "text/plain": [
       "   Cluster  Dimension1  Dimension2  Dimension3  Dimension4  Dimension5  \\\n",
       "0       28    -1.04178     0.58871    -3.15077    -1.11485     0.17407   \n",
       "1       10    -4.15687     5.35438     4.01153    -5.78297     0.48602   \n",
       "2       10     0.83112     3.05910    -1.28712    -3.05368     4.92575   \n",
       "3       25     5.34641     1.33627    -5.04786    -2.72614    -0.95218   \n",
       "4       14     4.00906     0.64782    10.07008     8.03038    -3.88573   \n",
       "\n",
       "   Dimension6  Dimension7  Dimension8  Dimension9  ...  Dimension192  \\\n",
       "0    -0.24985    -0.42848     0.27544    -0.50469  ...       0.10586   \n",
       "1     3.35849    -3.79806     0.55148     0.25724  ...      -0.37591   \n",
       "2    -6.23849    -0.40429    -2.37726     1.68692  ...       0.34279   \n",
       "3     1.15366    -1.43716    -1.43916    -2.63117  ...       1.45164   \n",
       "4    -0.75030     3.37293    -3.33334    -0.21971  ...       1.28007   \n",
       "\n",
       "   Dimension193  Dimension194  Dimension195  Dimension196  Dimension197  \\\n",
       "0       0.11510       0.71211       0.14001      -0.45764      -0.27565   \n",
       "1       0.14128       0.17835       0.31736       0.33517       0.52263   \n",
       "2       0.27036      -0.40964      -0.39461       0.45014      -0.88653   \n",
       "3       0.54156       0.27683       1.04439       0.02290       1.35529   \n",
       "4       0.99303      -0.68809      -0.23480       0.17220      -0.67771   \n",
       "\n",
       "   Dimension198  Dimension199  Dimension200  Dimension201  \n",
       "0      -0.39455      -0.29919       0.03516       0.58971  \n",
       "1       0.02368       0.66786       1.08540      -0.21511  \n",
       "2      -1.20327       0.92056      -0.00339      -0.57601  \n",
       "3      -0.39524      -0.36100       0.08803      -0.36264  \n",
       "4      -0.31977      -1.64303       1.01603      -0.67538  \n",
       "\n",
       "[5 rows x 202 columns]"
      ]
     },
     "execution_count": 28,
     "metadata": {},
     "output_type": "execute_result"
    }
   ],
   "source": [
    "df_cluster=pd.DataFrame(np.round(df_pca,5),columns=dim)\n",
    "df_cluster.insert(loc=0,column='Cluster',value=df_kmeans)\n",
    "df_cluster.head()"
   ]
  },
  {
   "cell_type": "markdown",
   "metadata": {},
   "source": [
    "# Applying these changes to the customer_dataset"
   ]
  },
  {
   "cell_type": "code",
   "execution_count": 40,
   "metadata": {},
   "outputs": [
    {
     "name": "stderr",
     "output_type": "stream",
     "text": [
      "/home/cmu/anaconda3/lib/python3.7/site-packages/IPython/core/interactiveshell.py:3063: DtypeWarning: Columns (18,19) have mixed types.Specify dtype option on import or set low_memory=False.\n",
      "  interactivity=interactivity, compiler=compiler, result=result)\n"
     ]
    }
   ],
   "source": [
    "customers = pd.read_csv('../capstone_data/Udacity_CUSTOMERS_052018.csv')"
   ]
  },
  {
   "cell_type": "code",
   "execution_count": 41,
   "metadata": {},
   "outputs": [
    {
     "data": {
      "text/html": [
       "<div>\n",
       "<style scoped>\n",
       "    .dataframe tbody tr th:only-of-type {\n",
       "        vertical-align: middle;\n",
       "    }\n",
       "\n",
       "    .dataframe tbody tr th {\n",
       "        vertical-align: top;\n",
       "    }\n",
       "\n",
       "    .dataframe thead th {\n",
       "        text-align: right;\n",
       "    }\n",
       "</style>\n",
       "<table border=\"1\" class=\"dataframe\">\n",
       "  <thead>\n",
       "    <tr style=\"text-align: right;\">\n",
       "      <th></th>\n",
       "      <th>LNR</th>\n",
       "      <th>AGER_TYP</th>\n",
       "      <th>AKT_DAT_KL</th>\n",
       "      <th>ALTER_HH</th>\n",
       "      <th>ALTER_KIND1</th>\n",
       "      <th>ALTER_KIND2</th>\n",
       "      <th>ALTER_KIND3</th>\n",
       "      <th>ALTER_KIND4</th>\n",
       "      <th>ALTERSKATEGORIE_FEIN</th>\n",
       "      <th>ANZ_HAUSHALTE_AKTIV</th>\n",
       "      <th>...</th>\n",
       "      <th>VHN</th>\n",
       "      <th>VK_DHT4A</th>\n",
       "      <th>VK_DISTANZ</th>\n",
       "      <th>VK_ZG11</th>\n",
       "      <th>W_KEIT_KIND_HH</th>\n",
       "      <th>WOHNDAUER_2008</th>\n",
       "      <th>WOHNLAGE</th>\n",
       "      <th>ZABEOTYP</th>\n",
       "      <th>ANREDE_KZ</th>\n",
       "      <th>ALTERSKATEGORIE_GROB</th>\n",
       "    </tr>\n",
       "  </thead>\n",
       "  <tbody>\n",
       "    <tr>\n",
       "      <th>0</th>\n",
       "      <td>9626</td>\n",
       "      <td>2</td>\n",
       "      <td>1.0</td>\n",
       "      <td>10.0</td>\n",
       "      <td>NaN</td>\n",
       "      <td>NaN</td>\n",
       "      <td>NaN</td>\n",
       "      <td>NaN</td>\n",
       "      <td>10.0</td>\n",
       "      <td>1.0</td>\n",
       "      <td>...</td>\n",
       "      <td>3.0</td>\n",
       "      <td>5.0</td>\n",
       "      <td>3.0</td>\n",
       "      <td>2.0</td>\n",
       "      <td>6.0</td>\n",
       "      <td>9.0</td>\n",
       "      <td>7.0</td>\n",
       "      <td>3</td>\n",
       "      <td>1</td>\n",
       "      <td>4</td>\n",
       "    </tr>\n",
       "    <tr>\n",
       "      <th>1</th>\n",
       "      <td>9628</td>\n",
       "      <td>-1</td>\n",
       "      <td>9.0</td>\n",
       "      <td>11.0</td>\n",
       "      <td>NaN</td>\n",
       "      <td>NaN</td>\n",
       "      <td>NaN</td>\n",
       "      <td>NaN</td>\n",
       "      <td>NaN</td>\n",
       "      <td>NaN</td>\n",
       "      <td>...</td>\n",
       "      <td>NaN</td>\n",
       "      <td>6.0</td>\n",
       "      <td>6.0</td>\n",
       "      <td>3.0</td>\n",
       "      <td>0.0</td>\n",
       "      <td>9.0</td>\n",
       "      <td>NaN</td>\n",
       "      <td>3</td>\n",
       "      <td>1</td>\n",
       "      <td>4</td>\n",
       "    </tr>\n",
       "    <tr>\n",
       "      <th>2</th>\n",
       "      <td>143872</td>\n",
       "      <td>-1</td>\n",
       "      <td>1.0</td>\n",
       "      <td>6.0</td>\n",
       "      <td>NaN</td>\n",
       "      <td>NaN</td>\n",
       "      <td>NaN</td>\n",
       "      <td>NaN</td>\n",
       "      <td>0.0</td>\n",
       "      <td>1.0</td>\n",
       "      <td>...</td>\n",
       "      <td>4.0</td>\n",
       "      <td>10.0</td>\n",
       "      <td>13.0</td>\n",
       "      <td>11.0</td>\n",
       "      <td>6.0</td>\n",
       "      <td>9.0</td>\n",
       "      <td>2.0</td>\n",
       "      <td>3</td>\n",
       "      <td>2</td>\n",
       "      <td>4</td>\n",
       "    </tr>\n",
       "    <tr>\n",
       "      <th>3</th>\n",
       "      <td>143873</td>\n",
       "      <td>1</td>\n",
       "      <td>1.0</td>\n",
       "      <td>8.0</td>\n",
       "      <td>NaN</td>\n",
       "      <td>NaN</td>\n",
       "      <td>NaN</td>\n",
       "      <td>NaN</td>\n",
       "      <td>8.0</td>\n",
       "      <td>0.0</td>\n",
       "      <td>...</td>\n",
       "      <td>2.0</td>\n",
       "      <td>6.0</td>\n",
       "      <td>4.0</td>\n",
       "      <td>2.0</td>\n",
       "      <td>NaN</td>\n",
       "      <td>9.0</td>\n",
       "      <td>7.0</td>\n",
       "      <td>1</td>\n",
       "      <td>1</td>\n",
       "      <td>4</td>\n",
       "    </tr>\n",
       "    <tr>\n",
       "      <th>4</th>\n",
       "      <td>143874</td>\n",
       "      <td>-1</td>\n",
       "      <td>1.0</td>\n",
       "      <td>20.0</td>\n",
       "      <td>NaN</td>\n",
       "      <td>NaN</td>\n",
       "      <td>NaN</td>\n",
       "      <td>NaN</td>\n",
       "      <td>14.0</td>\n",
       "      <td>7.0</td>\n",
       "      <td>...</td>\n",
       "      <td>4.0</td>\n",
       "      <td>3.0</td>\n",
       "      <td>5.0</td>\n",
       "      <td>4.0</td>\n",
       "      <td>2.0</td>\n",
       "      <td>9.0</td>\n",
       "      <td>3.0</td>\n",
       "      <td>1</td>\n",
       "      <td>1</td>\n",
       "      <td>3</td>\n",
       "    </tr>\n",
       "  </tbody>\n",
       "</table>\n",
       "<p>5 rows × 366 columns</p>\n",
       "</div>"
      ],
      "text/plain": [
       "      LNR  AGER_TYP  AKT_DAT_KL  ALTER_HH  ALTER_KIND1  ALTER_KIND2  \\\n",
       "0    9626         2         1.0      10.0          NaN          NaN   \n",
       "1    9628        -1         9.0      11.0          NaN          NaN   \n",
       "2  143872        -1         1.0       6.0          NaN          NaN   \n",
       "3  143873         1         1.0       8.0          NaN          NaN   \n",
       "4  143874        -1         1.0      20.0          NaN          NaN   \n",
       "\n",
       "   ALTER_KIND3  ALTER_KIND4  ALTERSKATEGORIE_FEIN  ANZ_HAUSHALTE_AKTIV  ...  \\\n",
       "0          NaN          NaN                  10.0                  1.0  ...   \n",
       "1          NaN          NaN                   NaN                  NaN  ...   \n",
       "2          NaN          NaN                   0.0                  1.0  ...   \n",
       "3          NaN          NaN                   8.0                  0.0  ...   \n",
       "4          NaN          NaN                  14.0                  7.0  ...   \n",
       "\n",
       "   VHN  VK_DHT4A  VK_DISTANZ  VK_ZG11  W_KEIT_KIND_HH  WOHNDAUER_2008  \\\n",
       "0  3.0       5.0         3.0      2.0             6.0             9.0   \n",
       "1  NaN       6.0         6.0      3.0             0.0             9.0   \n",
       "2  4.0      10.0        13.0     11.0             6.0             9.0   \n",
       "3  2.0       6.0         4.0      2.0             NaN             9.0   \n",
       "4  4.0       3.0         5.0      4.0             2.0             9.0   \n",
       "\n",
       "   WOHNLAGE ZABEOTYP ANREDE_KZ ALTERSKATEGORIE_GROB  \n",
       "0       7.0        3         1                    4  \n",
       "1       NaN        3         1                    4  \n",
       "2       2.0        3         2                    4  \n",
       "3       7.0        1         1                    4  \n",
       "4       3.0        1         1                    3  \n",
       "\n",
       "[5 rows x 366 columns]"
      ]
     },
     "execution_count": 41,
     "metadata": {},
     "output_type": "execute_result"
    }
   ],
   "source": [
    "customers=customers.drop(['CUSTOMER_GROUP', 'ONLINE_PURCHASE', 'PRODUCT_GROUP'], axis=1)\n",
    "customers.head()"
   ]
  },
  {
   "cell_type": "code",
   "execution_count": 44,
   "metadata": {},
   "outputs": [],
   "source": [
    "def clean_data_cust(df):\n",
    "    '''\n",
    "    Function which integrates all the above functions and returns clean dataFrame\n",
    "    Input: data to be cleaned in dataFrame \n",
    "    \n",
    "    Output: clean data Frame\n",
    "    '''\n",
    "    \n",
    "    #Map all the attributes to their unknown values in a dictionary\n",
    "    attribute_dict=Attribute_Unknown_Dict('../capstone_data/DIAS Attributes - Values 2017.xlsx',df)\n",
    "    \n",
    "    df=Map_unknown_to_NAN(df,attribute_dict)\n",
    "    \n",
    "    df=cat_to_num(df)\n",
    "    \n",
    "    df=mixed_categories(df)\n",
    "    df_col=df.columns    \n",
    "    \n",
    "    return df,df_col"
   ]
  },
  {
   "cell_type": "code",
   "execution_count": 45,
   "metadata": {},
   "outputs": [],
   "source": [
    "clean_customer,cust_col=clean_data_cust(customers)"
   ]
  },
  {
   "cell_type": "code",
   "execution_count": 46,
   "metadata": {},
   "outputs": [
    {
     "data": {
      "text/plain": [
       "(191652, 366)"
      ]
     },
     "execution_count": 46,
     "metadata": {},
     "output_type": "execute_result"
    }
   ],
   "source": [
    "clean_customer.shape"
   ]
  },
  {
   "cell_type": "code",
   "execution_count": 47,
   "metadata": {},
   "outputs": [],
   "source": [
    "missing = list(np.setdiff1d(cust_col, azdias_col))"
   ]
  },
  {
   "cell_type": "code",
   "execution_count": 50,
   "metadata": {},
   "outputs": [],
   "source": [
    "clean_customer=clean_customer.drop(columns=missing,axis=1,inplace=False)"
   ]
  },
  {
   "cell_type": "code",
   "execution_count": 51,
   "metadata": {},
   "outputs": [],
   "source": [
    "clean_cust=impute_and_standardize(clean_customer)"
   ]
  },
  {
   "cell_type": "code",
   "execution_count": 52,
   "metadata": {},
   "outputs": [],
   "source": [
    "cust_pca=pca.transform(clean_cust)\n",
    "cust_kmeans=kmeans.predict(cust_pca)"
   ]
  },
  {
   "cell_type": "code",
   "execution_count": 57,
   "metadata": {},
   "outputs": [
    {
     "data": {
      "text/html": [
       "<div>\n",
       "<style scoped>\n",
       "    .dataframe tbody tr th:only-of-type {\n",
       "        vertical-align: middle;\n",
       "    }\n",
       "\n",
       "    .dataframe tbody tr th {\n",
       "        vertical-align: top;\n",
       "    }\n",
       "\n",
       "    .dataframe thead th {\n",
       "        text-align: right;\n",
       "    }\n",
       "</style>\n",
       "<table border=\"1\" class=\"dataframe\">\n",
       "  <thead>\n",
       "    <tr style=\"text-align: right;\">\n",
       "      <th></th>\n",
       "      <th>Cluster</th>\n",
       "      <th>Dimension1</th>\n",
       "      <th>Dimension2</th>\n",
       "      <th>Dimension3</th>\n",
       "      <th>Dimension4</th>\n",
       "      <th>Dimension5</th>\n",
       "      <th>Dimension6</th>\n",
       "      <th>Dimension7</th>\n",
       "      <th>Dimension8</th>\n",
       "      <th>Dimension9</th>\n",
       "      <th>...</th>\n",
       "      <th>Dimension192</th>\n",
       "      <th>Dimension193</th>\n",
       "      <th>Dimension194</th>\n",
       "      <th>Dimension195</th>\n",
       "      <th>Dimension196</th>\n",
       "      <th>Dimension197</th>\n",
       "      <th>Dimension198</th>\n",
       "      <th>Dimension199</th>\n",
       "      <th>Dimension200</th>\n",
       "      <th>Dimension201</th>\n",
       "    </tr>\n",
       "  </thead>\n",
       "  <tbody>\n",
       "    <tr>\n",
       "      <th>0</th>\n",
       "      <td>6</td>\n",
       "      <td>6.56040</td>\n",
       "      <td>3.30415</td>\n",
       "      <td>-4.56372</td>\n",
       "      <td>-1.54779</td>\n",
       "      <td>-1.81912</td>\n",
       "      <td>1.05470</td>\n",
       "      <td>2.78129</td>\n",
       "      <td>-0.50937</td>\n",
       "      <td>0.86883</td>\n",
       "      <td>...</td>\n",
       "      <td>0.82705</td>\n",
       "      <td>-1.15704</td>\n",
       "      <td>-0.21712</td>\n",
       "      <td>1.01611</td>\n",
       "      <td>-0.02516</td>\n",
       "      <td>0.34859</td>\n",
       "      <td>0.24546</td>\n",
       "      <td>-1.01242</td>\n",
       "      <td>-0.48045</td>\n",
       "      <td>1.46878</td>\n",
       "    </tr>\n",
       "    <tr>\n",
       "      <th>1</th>\n",
       "      <td>1</td>\n",
       "      <td>-0.49822</td>\n",
       "      <td>0.19756</td>\n",
       "      <td>-1.80821</td>\n",
       "      <td>-0.77362</td>\n",
       "      <td>-0.13141</td>\n",
       "      <td>0.95430</td>\n",
       "      <td>1.87865</td>\n",
       "      <td>-0.06061</td>\n",
       "      <td>0.55367</td>\n",
       "      <td>...</td>\n",
       "      <td>0.23321</td>\n",
       "      <td>0.62334</td>\n",
       "      <td>-1.86039</td>\n",
       "      <td>-0.69803</td>\n",
       "      <td>0.47049</td>\n",
       "      <td>-0.36734</td>\n",
       "      <td>1.02822</td>\n",
       "      <td>0.12224</td>\n",
       "      <td>-0.09903</td>\n",
       "      <td>0.73809</td>\n",
       "    </tr>\n",
       "    <tr>\n",
       "      <th>2</th>\n",
       "      <td>27</td>\n",
       "      <td>-5.47496</td>\n",
       "      <td>3.39029</td>\n",
       "      <td>-5.03725</td>\n",
       "      <td>2.16477</td>\n",
       "      <td>-4.44320</td>\n",
       "      <td>-1.57986</td>\n",
       "      <td>-0.92274</td>\n",
       "      <td>3.18116</td>\n",
       "      <td>-7.08568</td>\n",
       "      <td>...</td>\n",
       "      <td>0.60274</td>\n",
       "      <td>-0.41072</td>\n",
       "      <td>-2.00342</td>\n",
       "      <td>0.08217</td>\n",
       "      <td>-0.33453</td>\n",
       "      <td>0.14120</td>\n",
       "      <td>0.16044</td>\n",
       "      <td>-1.36128</td>\n",
       "      <td>0.03925</td>\n",
       "      <td>-0.27896</td>\n",
       "    </tr>\n",
       "    <tr>\n",
       "      <th>3</th>\n",
       "      <td>13</td>\n",
       "      <td>3.24840</td>\n",
       "      <td>-3.25359</td>\n",
       "      <td>-4.22626</td>\n",
       "      <td>-0.49862</td>\n",
       "      <td>4.04975</td>\n",
       "      <td>2.96504</td>\n",
       "      <td>1.97542</td>\n",
       "      <td>-5.44039</td>\n",
       "      <td>-0.33511</td>\n",
       "      <td>...</td>\n",
       "      <td>-0.30213</td>\n",
       "      <td>-1.35705</td>\n",
       "      <td>-0.02951</td>\n",
       "      <td>-0.59241</td>\n",
       "      <td>0.73874</td>\n",
       "      <td>-0.90232</td>\n",
       "      <td>-0.89211</td>\n",
       "      <td>0.14441</td>\n",
       "      <td>1.30047</td>\n",
       "      <td>-0.95653</td>\n",
       "    </tr>\n",
       "    <tr>\n",
       "      <th>4</th>\n",
       "      <td>0</td>\n",
       "      <td>-4.02268</td>\n",
       "      <td>-4.83188</td>\n",
       "      <td>8.96208</td>\n",
       "      <td>1.94190</td>\n",
       "      <td>-5.56753</td>\n",
       "      <td>-0.79677</td>\n",
       "      <td>0.12042</td>\n",
       "      <td>-0.46087</td>\n",
       "      <td>3.21080</td>\n",
       "      <td>...</td>\n",
       "      <td>0.36106</td>\n",
       "      <td>-0.01591</td>\n",
       "      <td>-1.00247</td>\n",
       "      <td>-1.19885</td>\n",
       "      <td>0.53258</td>\n",
       "      <td>-0.45583</td>\n",
       "      <td>0.54706</td>\n",
       "      <td>0.63656</td>\n",
       "      <td>-0.31067</td>\n",
       "      <td>-0.20078</td>\n",
       "    </tr>\n",
       "  </tbody>\n",
       "</table>\n",
       "<p>5 rows × 202 columns</p>\n",
       "</div>"
      ],
      "text/plain": [
       "   Cluster  Dimension1  Dimension2  Dimension3  Dimension4  Dimension5  \\\n",
       "0        6     6.56040     3.30415    -4.56372    -1.54779    -1.81912   \n",
       "1        1    -0.49822     0.19756    -1.80821    -0.77362    -0.13141   \n",
       "2       27    -5.47496     3.39029    -5.03725     2.16477    -4.44320   \n",
       "3       13     3.24840    -3.25359    -4.22626    -0.49862     4.04975   \n",
       "4        0    -4.02268    -4.83188     8.96208     1.94190    -5.56753   \n",
       "\n",
       "   Dimension6  Dimension7  Dimension8  Dimension9  ...  Dimension192  \\\n",
       "0     1.05470     2.78129    -0.50937     0.86883  ...       0.82705   \n",
       "1     0.95430     1.87865    -0.06061     0.55367  ...       0.23321   \n",
       "2    -1.57986    -0.92274     3.18116    -7.08568  ...       0.60274   \n",
       "3     2.96504     1.97542    -5.44039    -0.33511  ...      -0.30213   \n",
       "4    -0.79677     0.12042    -0.46087     3.21080  ...       0.36106   \n",
       "\n",
       "   Dimension193  Dimension194  Dimension195  Dimension196  Dimension197  \\\n",
       "0      -1.15704      -0.21712       1.01611      -0.02516       0.34859   \n",
       "1       0.62334      -1.86039      -0.69803       0.47049      -0.36734   \n",
       "2      -0.41072      -2.00342       0.08217      -0.33453       0.14120   \n",
       "3      -1.35705      -0.02951      -0.59241       0.73874      -0.90232   \n",
       "4      -0.01591      -1.00247      -1.19885       0.53258      -0.45583   \n",
       "\n",
       "   Dimension198  Dimension199  Dimension200  Dimension201  \n",
       "0       0.24546      -1.01242      -0.48045       1.46878  \n",
       "1       1.02822       0.12224      -0.09903       0.73809  \n",
       "2       0.16044      -1.36128       0.03925      -0.27896  \n",
       "3      -0.89211       0.14441       1.30047      -0.95653  \n",
       "4       0.54706       0.63656      -0.31067      -0.20078  \n",
       "\n",
       "[5 rows x 202 columns]"
      ]
     },
     "execution_count": 57,
     "metadata": {},
     "output_type": "execute_result"
    }
   ],
   "source": [
    "cust_df=pd.DataFrame(np.round(cust_pca,5),columns=dim)\n",
    "cust_df.insert(loc=0,column='Cluster',value=cust_kmeans)\n",
    "cust_df.head()"
   ]
  },
  {
   "cell_type": "code",
   "execution_count": 58,
   "metadata": {},
   "outputs": [
    {
     "data": {
      "text/plain": [
       "<matplotlib.axes._subplots.AxesSubplot at 0x7f38f05e0810>"
      ]
     },
     "execution_count": 58,
     "metadata": {},
     "output_type": "execute_result"
    },
    {
     "data": {
      "image/png": "[encoded data removed]",
      "text/plain": [
       "<Figure size 432x288 with 1 Axes>"
      ]
     },
     "metadata": {
      "needs_background": "light"
     },
     "output_type": "display_data"
    }
   ],
   "source": [
    "sns.countplot(cust_df['Cluster'])"
   ]
  },
  {
   "cell_type": "code",
   "execution_count": 59,
   "metadata": {},
   "outputs": [
    {
     "data": {
      "text/plain": [
       "<matplotlib.axes._subplots.AxesSubplot at 0x7f38f0843a90>"
      ]
     },
     "execution_count": 59,
     "metadata": {},
     "output_type": "execute_result"
    },
    {
     "data": {
      "image/png": "[encoded data removed]",
      "text/plain": [
       "<Figure size 432x288 with 1 Axes>"
      ]
     },
     "metadata": {
      "needs_background": "light"
     },
     "output_type": "display_data"
    }
   ],
   "source": [
    "sns.countplot(df_cluster['Cluster'])"
   ]
  },
  {
   "cell_type": "code",
   "execution_count": 155,
   "metadata": {},
   "outputs": [],
   "source": [
    "#Creating a df from the difference of both the clusters\n",
    "azdias_count=(df_cluster['Cluster'].value_counts()/df_cluster.shape[0])\n",
    "cust_count=(cust_df['Cluster'].value_counts()/cust_df.shape[0])\n",
    "\n",
    "diff_count=cust_count-azdias_count"
   ]
  },
  {
   "cell_type": "code",
   "execution_count": 159,
   "metadata": {},
   "outputs": [],
   "source": [
    "diff_count=diff_count.sort_values(ascending=False)"
   ]
  },
  {
   "cell_type": "code",
   "execution_count": 160,
   "metadata": {},
   "outputs": [
    {
     "data": {
      "text/plain": [
       "<matplotlib.axes._subplots.AxesSubplot at 0x7f38ca3d89d0>"
      ]
     },
     "execution_count": 160,
     "metadata": {},
     "output_type": "execute_result"
    },
    {
     "data": {
      "image/png": "[encoded data removed]",
      "text/plain": [
       "<Figure size 432x288 with 1 Axes>"
      ]
     },
     "metadata": {
      "needs_background": "light"
     },
     "output_type": "display_data"
    }
   ],
   "source": [
    "diff_count.plot.bar()"
   ]
  },
  {
   "cell_type": "code",
   "execution_count": 161,
   "metadata": {},
   "outputs": [],
   "source": [
    "def map_cluster_to_columns(cluster_num):\n",
    "    '''\n",
    "    Function to infer the columns which are similar or which are dissimilar\n",
    "    Input:\n",
    "    cluster_num: Cluster_number\n",
    "    '''\n",
    "    temp=cust_df[cust_df['Cluster']==cluster_num]\n",
    "    temp=temp.drop(['Cluster'],axis=1,inplace=False)\n",
    "    \n",
    "    cluster_pca=pca.inverse_transform(temp)\n",
    "    \n",
    "    cluster_final=pd.DataFrame(cluster_pca,columns=clean_customer.columns)\n",
    "    \n",
    "    return cluster_final\n",
    "    "
   ]
  },
  {
   "cell_type": "code",
   "execution_count": 163,
   "metadata": {},
   "outputs": [
    {
     "data": {
      "text/html": [
       "<div>\n",
       "<style scoped>\n",
       "    .dataframe tbody tr th:only-of-type {\n",
       "        vertical-align: middle;\n",
       "    }\n",
       "\n",
       "    .dataframe tbody tr th {\n",
       "        vertical-align: top;\n",
       "    }\n",
       "\n",
       "    .dataframe thead th {\n",
       "        text-align: right;\n",
       "    }\n",
       "</style>\n",
       "<table border=\"1\" class=\"dataframe\">\n",
       "  <thead>\n",
       "    <tr style=\"text-align: right;\">\n",
       "      <th></th>\n",
       "      <th>AKT_DAT_KL</th>\n",
       "      <th>ALTER_HH</th>\n",
       "      <th>ALTERSKATEGORIE_FEIN</th>\n",
       "      <th>ANZ_HAUSHALTE_AKTIV</th>\n",
       "      <th>ANZ_HH_TITEL</th>\n",
       "      <th>ANZ_KINDER</th>\n",
       "      <th>ANZ_PERSONEN</th>\n",
       "      <th>ANZ_STATISTISCHE_HAUSHALTE</th>\n",
       "      <th>ANZ_TITEL</th>\n",
       "      <th>ARBEIT</th>\n",
       "      <th>...</th>\n",
       "      <th>CAMEO_DEU_2015_7E</th>\n",
       "      <th>CAMEO_DEU_2015_8A</th>\n",
       "      <th>CAMEO_DEU_2015_8B</th>\n",
       "      <th>CAMEO_DEU_2015_8C</th>\n",
       "      <th>CAMEO_DEU_2015_8D</th>\n",
       "      <th>CAMEO_DEU_2015_9A</th>\n",
       "      <th>CAMEO_DEU_2015_9B</th>\n",
       "      <th>CAMEO_DEU_2015_9C</th>\n",
       "      <th>CAMEO_DEU_2015_9D</th>\n",
       "      <th>CAMEO_DEU_2015_9E</th>\n",
       "    </tr>\n",
       "  </thead>\n",
       "  <tbody>\n",
       "    <tr>\n",
       "      <th>0</th>\n",
       "      <td>0.051736</td>\n",
       "      <td>0.160286</td>\n",
       "      <td>0.092746</td>\n",
       "      <td>0.001933</td>\n",
       "      <td>-0.006894</td>\n",
       "      <td>-0.029662</td>\n",
       "      <td>-0.155710</td>\n",
       "      <td>0.005322</td>\n",
       "      <td>-0.004706</td>\n",
       "      <td>0.010760</td>\n",
       "      <td>...</td>\n",
       "      <td>-0.063980</td>\n",
       "      <td>-0.164579</td>\n",
       "      <td>-0.152364</td>\n",
       "      <td>-0.115888</td>\n",
       "      <td>-0.093787</td>\n",
       "      <td>-0.082504</td>\n",
       "      <td>-0.082368</td>\n",
       "      <td>-0.084925</td>\n",
       "      <td>-0.126452</td>\n",
       "      <td>-0.071388</td>\n",
       "    </tr>\n",
       "    <tr>\n",
       "      <th>1</th>\n",
       "      <td>0.045991</td>\n",
       "      <td>0.177824</td>\n",
       "      <td>0.045225</td>\n",
       "      <td>0.005220</td>\n",
       "      <td>-0.000703</td>\n",
       "      <td>-0.022693</td>\n",
       "      <td>-0.152972</td>\n",
       "      <td>0.007487</td>\n",
       "      <td>0.000606</td>\n",
       "      <td>-0.005445</td>\n",
       "      <td>...</td>\n",
       "      <td>-0.064699</td>\n",
       "      <td>-0.156529</td>\n",
       "      <td>-0.135491</td>\n",
       "      <td>-0.118424</td>\n",
       "      <td>-0.102111</td>\n",
       "      <td>-0.083540</td>\n",
       "      <td>-0.082617</td>\n",
       "      <td>-0.079449</td>\n",
       "      <td>-0.135161</td>\n",
       "      <td>-0.076862</td>\n",
       "    </tr>\n",
       "    <tr>\n",
       "      <th>2</th>\n",
       "      <td>0.048872</td>\n",
       "      <td>0.169055</td>\n",
       "      <td>0.068989</td>\n",
       "      <td>0.003576</td>\n",
       "      <td>-0.003801</td>\n",
       "      <td>-0.026176</td>\n",
       "      <td>-0.154340</td>\n",
       "      <td>0.006404</td>\n",
       "      <td>-0.002048</td>\n",
       "      <td>0.002653</td>\n",
       "      <td>...</td>\n",
       "      <td>-0.064340</td>\n",
       "      <td>-0.160555</td>\n",
       "      <td>-0.143928</td>\n",
       "      <td>-0.117157</td>\n",
       "      <td>-0.097946</td>\n",
       "      <td>-0.083019</td>\n",
       "      <td>-0.082496</td>\n",
       "      <td>-0.082185</td>\n",
       "      <td>-0.130803</td>\n",
       "      <td>-0.074127</td>\n",
       "    </tr>\n",
       "    <tr>\n",
       "      <th>3</th>\n",
       "      <td>0.045124</td>\n",
       "      <td>0.154292</td>\n",
       "      <td>0.116327</td>\n",
       "      <td>0.009433</td>\n",
       "      <td>-0.010316</td>\n",
       "      <td>-0.013691</td>\n",
       "      <td>-0.174826</td>\n",
       "      <td>0.011345</td>\n",
       "      <td>0.000723</td>\n",
       "      <td>0.020049</td>\n",
       "      <td>...</td>\n",
       "      <td>-0.068261</td>\n",
       "      <td>-0.180518</td>\n",
       "      <td>-0.166156</td>\n",
       "      <td>-0.111775</td>\n",
       "      <td>-0.101992</td>\n",
       "      <td>-0.079535</td>\n",
       "      <td>-0.083792</td>\n",
       "      <td>-0.104459</td>\n",
       "      <td>-0.130693</td>\n",
       "      <td>-0.085606</td>\n",
       "    </tr>\n",
       "    <tr>\n",
       "      <th>4</th>\n",
       "      <td>0.039382</td>\n",
       "      <td>0.171829</td>\n",
       "      <td>0.068805</td>\n",
       "      <td>0.012721</td>\n",
       "      <td>-0.004127</td>\n",
       "      <td>-0.006725</td>\n",
       "      <td>-0.172086</td>\n",
       "      <td>0.013512</td>\n",
       "      <td>0.006033</td>\n",
       "      <td>0.003844</td>\n",
       "      <td>...</td>\n",
       "      <td>-0.068994</td>\n",
       "      <td>-0.172461</td>\n",
       "      <td>-0.149285</td>\n",
       "      <td>-0.114309</td>\n",
       "      <td>-0.110323</td>\n",
       "      <td>-0.080566</td>\n",
       "      <td>-0.084044</td>\n",
       "      <td>-0.098978</td>\n",
       "      <td>-0.139410</td>\n",
       "      <td>-0.091086</td>\n",
       "    </tr>\n",
       "  </tbody>\n",
       "</table>\n",
       "<p>5 rows × 363 columns</p>\n",
       "</div>"
      ],
      "text/plain": [
       "   AKT_DAT_KL  ALTER_HH  ALTERSKATEGORIE_FEIN  ANZ_HAUSHALTE_AKTIV  \\\n",
       "0    0.051736  0.160286              0.092746             0.001933   \n",
       "1    0.045991  0.177824              0.045225             0.005220   \n",
       "2    0.048872  0.169055              0.068989             0.003576   \n",
       "3    0.045124  0.154292              0.116327             0.009433   \n",
       "4    0.039382  0.171829              0.068805             0.012721   \n",
       "\n",
       "   ANZ_HH_TITEL  ANZ_KINDER  ANZ_PERSONEN  ANZ_STATISTISCHE_HAUSHALTE  \\\n",
       "0     -0.006894   -0.029662     -0.155710                    0.005322   \n",
       "1     -0.000703   -0.022693     -0.152972                    0.007487   \n",
       "2     -0.003801   -0.026176     -0.154340                    0.006404   \n",
       "3     -0.010316   -0.013691     -0.174826                    0.011345   \n",
       "4     -0.004127   -0.006725     -0.172086                    0.013512   \n",
       "\n",
       "   ANZ_TITEL    ARBEIT  ...  CAMEO_DEU_2015_7E  CAMEO_DEU_2015_8A  \\\n",
       "0  -0.004706  0.010760  ...          -0.063980          -0.164579   \n",
       "1   0.000606 -0.005445  ...          -0.064699          -0.156529   \n",
       "2  -0.002048  0.002653  ...          -0.064340          -0.160555   \n",
       "3   0.000723  0.020049  ...          -0.068261          -0.180518   \n",
       "4   0.006033  0.003844  ...          -0.068994          -0.172461   \n",
       "\n",
       "   CAMEO_DEU_2015_8B  CAMEO_DEU_2015_8C  CAMEO_DEU_2015_8D  CAMEO_DEU_2015_9A  \\\n",
       "0          -0.152364          -0.115888          -0.093787          -0.082504   \n",
       "1          -0.135491          -0.118424          -0.102111          -0.083540   \n",
       "2          -0.143928          -0.117157          -0.097946          -0.083019   \n",
       "3          -0.166156          -0.111775          -0.101992          -0.079535   \n",
       "4          -0.149285          -0.114309          -0.110323          -0.080566   \n",
       "\n",
       "   CAMEO_DEU_2015_9B  CAMEO_DEU_2015_9C  CAMEO_DEU_2015_9D  CAMEO_DEU_2015_9E  \n",
       "0          -0.082368          -0.084925          -0.126452          -0.071388  \n",
       "1          -0.082617          -0.079449          -0.135161          -0.076862  \n",
       "2          -0.082496          -0.082185          -0.130803          -0.074127  \n",
       "3          -0.083792          -0.104459          -0.130693          -0.085606  \n",
       "4          -0.084044          -0.098978          -0.139410          -0.091086  \n",
       "\n",
       "[5 rows x 363 columns]"
      ]
     },
     "execution_count": 163,
     "metadata": {},
     "output_type": "execute_result"
    }
   ],
   "source": [
    "target=map_cluster_to_columns(28)\n",
    "target.head()"
   ]
  },
  {
   "cell_type": "code",
   "execution_count": 167,
   "metadata": {},
   "outputs": [],
   "source": [
    "infer_columns=['MOBI_REGIO',\n",
    "               'PLZ8_ANTG1',\n",
    "               'KBA13_HERST_BMW_BENZ',\n",
    "               'KBA13_MERCEDES',\n",
    "               'FINANZ_VORSORGER',\n",
    "               'ALTERSKATEGORIE_GROB']"
   ]
  },
  {
   "cell_type": "code",
   "execution_count": 176,
   "metadata": {},
   "outputs": [
    {
     "data": {
      "text/plain": [
       "KOMBIALTER               1.879128\n",
       "FINANZ_ANLEGER           1.687641\n",
       "FINANZ_UNAUFFAELLIGER    1.686002\n",
       "SEMIO_REL                1.522650\n",
       "FINANZ_SPARER            1.362063\n",
       "                           ...   \n",
       "FINANZ_VORSORGER        -0.974725\n",
       "LP_LEBENSPHASE_GROB     -1.003114\n",
       "LP_LEBENSPHASE_FEIN     -1.050301\n",
       "GEBURTSJAHR             -1.098353\n",
       "SEMIO_VERT              -1.470410\n",
       "Name: mean, Length: 363, dtype: float64"
      ]
     },
     "execution_count": 176,
     "metadata": {},
     "output_type": "execute_result"
    }
   ],
   "source": [
    "target.describe().loc['mean'].sort_values(ascending=False)"
   ]
  },
  {
   "cell_type": "code",
   "execution_count": 165,
   "metadata": {},
   "outputs": [
    {
     "data": {
      "text/html": [
       "<div>\n",
       "<style scoped>\n",
       "    .dataframe tbody tr th:only-of-type {\n",
       "        vertical-align: middle;\n",
       "    }\n",
       "\n",
       "    .dataframe tbody tr th {\n",
       "        vertical-align: top;\n",
       "    }\n",
       "\n",
       "    .dataframe thead th {\n",
       "        text-align: right;\n",
       "    }\n",
       "</style>\n",
       "<table border=\"1\" class=\"dataframe\">\n",
       "  <thead>\n",
       "    <tr style=\"text-align: right;\">\n",
       "      <th></th>\n",
       "      <th>AKT_DAT_KL</th>\n",
       "      <th>ALTER_HH</th>\n",
       "      <th>ALTERSKATEGORIE_FEIN</th>\n",
       "      <th>ANZ_HAUSHALTE_AKTIV</th>\n",
       "      <th>ANZ_HH_TITEL</th>\n",
       "      <th>ANZ_KINDER</th>\n",
       "      <th>ANZ_PERSONEN</th>\n",
       "      <th>ANZ_STATISTISCHE_HAUSHALTE</th>\n",
       "      <th>ANZ_TITEL</th>\n",
       "      <th>ARBEIT</th>\n",
       "      <th>...</th>\n",
       "      <th>CAMEO_DEU_2015_7E</th>\n",
       "      <th>CAMEO_DEU_2015_8A</th>\n",
       "      <th>CAMEO_DEU_2015_8B</th>\n",
       "      <th>CAMEO_DEU_2015_8C</th>\n",
       "      <th>CAMEO_DEU_2015_8D</th>\n",
       "      <th>CAMEO_DEU_2015_9A</th>\n",
       "      <th>CAMEO_DEU_2015_9B</th>\n",
       "      <th>CAMEO_DEU_2015_9C</th>\n",
       "      <th>CAMEO_DEU_2015_9D</th>\n",
       "      <th>CAMEO_DEU_2015_9E</th>\n",
       "    </tr>\n",
       "  </thead>\n",
       "  <tbody>\n",
       "    <tr>\n",
       "      <th>0</th>\n",
       "      <td>2.700466</td>\n",
       "      <td>0.254547</td>\n",
       "      <td>0.529812</td>\n",
       "      <td>-0.338245</td>\n",
       "      <td>-0.077442</td>\n",
       "      <td>-0.261260</td>\n",
       "      <td>-1.663825</td>\n",
       "      <td>-0.335567</td>\n",
       "      <td>-0.181222</td>\n",
       "      <td>-0.423971</td>\n",
       "      <td>...</td>\n",
       "      <td>-0.035791</td>\n",
       "      <td>-0.228227</td>\n",
       "      <td>-0.180899</td>\n",
       "      <td>-0.008583</td>\n",
       "      <td>-0.107680</td>\n",
       "      <td>-0.021045</td>\n",
       "      <td>-0.046484</td>\n",
       "      <td>-0.141458</td>\n",
       "      <td>-0.257203</td>\n",
       "      <td>-0.145969</td>\n",
       "    </tr>\n",
       "    <tr>\n",
       "      <th>1</th>\n",
       "      <td>-0.831263</td>\n",
       "      <td>-0.420296</td>\n",
       "      <td>-1.818865</td>\n",
       "      <td>-0.403254</td>\n",
       "      <td>0.010507</td>\n",
       "      <td>-0.650545</td>\n",
       "      <td>0.301046</td>\n",
       "      <td>-0.384662</td>\n",
       "      <td>-0.193979</td>\n",
       "      <td>-0.402436</td>\n",
       "      <td>...</td>\n",
       "      <td>-0.081358</td>\n",
       "      <td>-0.160315</td>\n",
       "      <td>-0.087698</td>\n",
       "      <td>-0.180225</td>\n",
       "      <td>-0.072180</td>\n",
       "      <td>-0.089558</td>\n",
       "      <td>-0.086017</td>\n",
       "      <td>-0.081940</td>\n",
       "      <td>-0.138003</td>\n",
       "      <td>-0.109781</td>\n",
       "    </tr>\n",
       "    <tr>\n",
       "      <th>2</th>\n",
       "      <td>-0.482692</td>\n",
       "      <td>1.013010</td>\n",
       "      <td>0.899632</td>\n",
       "      <td>-0.122817</td>\n",
       "      <td>-0.025345</td>\n",
       "      <td>-0.481288</td>\n",
       "      <td>-1.600093</td>\n",
       "      <td>-0.133174</td>\n",
       "      <td>-0.203369</td>\n",
       "      <td>0.442939</td>\n",
       "      <td>...</td>\n",
       "      <td>-0.056321</td>\n",
       "      <td>-0.110801</td>\n",
       "      <td>-0.028255</td>\n",
       "      <td>-0.057276</td>\n",
       "      <td>-0.140608</td>\n",
       "      <td>-0.001900</td>\n",
       "      <td>0.051006</td>\n",
       "      <td>-0.045191</td>\n",
       "      <td>-0.084765</td>\n",
       "      <td>-0.060253</td>\n",
       "    </tr>\n",
       "    <tr>\n",
       "      <th>3</th>\n",
       "      <td>-0.048877</td>\n",
       "      <td>0.671538</td>\n",
       "      <td>0.742284</td>\n",
       "      <td>-0.098130</td>\n",
       "      <td>-0.166816</td>\n",
       "      <td>-0.457904</td>\n",
       "      <td>-1.131420</td>\n",
       "      <td>-0.151388</td>\n",
       "      <td>-0.119497</td>\n",
       "      <td>-0.284424</td>\n",
       "      <td>...</td>\n",
       "      <td>-0.049000</td>\n",
       "      <td>-0.032095</td>\n",
       "      <td>-0.089223</td>\n",
       "      <td>0.028633</td>\n",
       "      <td>-0.003579</td>\n",
       "      <td>0.024812</td>\n",
       "      <td>-0.079230</td>\n",
       "      <td>-0.065878</td>\n",
       "      <td>-0.065009</td>\n",
       "      <td>-0.054319</td>\n",
       "    </tr>\n",
       "    <tr>\n",
       "      <th>4</th>\n",
       "      <td>2.910669</td>\n",
       "      <td>0.999604</td>\n",
       "      <td>1.456773</td>\n",
       "      <td>0.421635</td>\n",
       "      <td>-0.180153</td>\n",
       "      <td>-0.349042</td>\n",
       "      <td>-1.049000</td>\n",
       "      <td>0.436674</td>\n",
       "      <td>-0.146203</td>\n",
       "      <td>-0.702576</td>\n",
       "      <td>...</td>\n",
       "      <td>-0.087799</td>\n",
       "      <td>-0.109823</td>\n",
       "      <td>-0.172610</td>\n",
       "      <td>-0.161674</td>\n",
       "      <td>-0.144314</td>\n",
       "      <td>-0.071517</td>\n",
       "      <td>-0.062655</td>\n",
       "      <td>-0.027192</td>\n",
       "      <td>-0.086322</td>\n",
       "      <td>-0.138627</td>\n",
       "    </tr>\n",
       "  </tbody>\n",
       "</table>\n",
       "<p>5 rows × 363 columns</p>\n",
       "</div>"
      ],
      "text/plain": [
       "   AKT_DAT_KL  ALTER_HH  ALTERSKATEGORIE_FEIN  ANZ_HAUSHALTE_AKTIV  \\\n",
       "0    2.700466  0.254547              0.529812            -0.338245   \n",
       "1   -0.831263 -0.420296             -1.818865            -0.403254   \n",
       "2   -0.482692  1.013010              0.899632            -0.122817   \n",
       "3   -0.048877  0.671538              0.742284            -0.098130   \n",
       "4    2.910669  0.999604              1.456773             0.421635   \n",
       "\n",
       "   ANZ_HH_TITEL  ANZ_KINDER  ANZ_PERSONEN  ANZ_STATISTISCHE_HAUSHALTE  \\\n",
       "0     -0.077442   -0.261260     -1.663825                   -0.335567   \n",
       "1      0.010507   -0.650545      0.301046                   -0.384662   \n",
       "2     -0.025345   -0.481288     -1.600093                   -0.133174   \n",
       "3     -0.166816   -0.457904     -1.131420                   -0.151388   \n",
       "4     -0.180153   -0.349042     -1.049000                    0.436674   \n",
       "\n",
       "   ANZ_TITEL    ARBEIT  ...  CAMEO_DEU_2015_7E  CAMEO_DEU_2015_8A  \\\n",
       "0  -0.181222 -0.423971  ...          -0.035791          -0.228227   \n",
       "1  -0.193979 -0.402436  ...          -0.081358          -0.160315   \n",
       "2  -0.203369  0.442939  ...          -0.056321          -0.110801   \n",
       "3  -0.119497 -0.284424  ...          -0.049000          -0.032095   \n",
       "4  -0.146203 -0.702576  ...          -0.087799          -0.109823   \n",
       "\n",
       "   CAMEO_DEU_2015_8B  CAMEO_DEU_2015_8C  CAMEO_DEU_2015_8D  CAMEO_DEU_2015_9A  \\\n",
       "0          -0.180899          -0.008583          -0.107680          -0.021045   \n",
       "1          -0.087698          -0.180225          -0.072180          -0.089558   \n",
       "2          -0.028255          -0.057276          -0.140608          -0.001900   \n",
       "3          -0.089223           0.028633          -0.003579           0.024812   \n",
       "4          -0.172610          -0.161674          -0.144314          -0.071517   \n",
       "\n",
       "   CAMEO_DEU_2015_9B  CAMEO_DEU_2015_9C  CAMEO_DEU_2015_9D  CAMEO_DEU_2015_9E  \n",
       "0          -0.046484          -0.141458          -0.257203          -0.145969  \n",
       "1          -0.086017          -0.081940          -0.138003          -0.109781  \n",
       "2           0.051006          -0.045191          -0.084765          -0.060253  \n",
       "3          -0.079230          -0.065878          -0.065009          -0.054319  \n",
       "4          -0.062655          -0.027192          -0.086322          -0.138627  \n",
       "\n",
       "[5 rows x 363 columns]"
      ]
     },
     "execution_count": 165,
     "metadata": {},
     "output_type": "execute_result"
    }
   ],
   "source": [
    "non_target=map_cluster_to_columns(10)\n",
    "non_target.head()"
   ]
  },
  {
   "cell_type": "code",
   "execution_count": 177,
   "metadata": {},
   "outputs": [
    {
     "data": {
      "text/plain": [
       "VK_ZG11                 0.962363\n",
       "RT_UEBERGROESSE         0.954917\n",
       "CJT_TYP_1               0.930878\n",
       "CJT_TYP_2               0.850704\n",
       "EINGEZOGENAM_HH_JAHR    0.811286\n",
       "                          ...   \n",
       "CJT_KATALOGNUTZER      -0.979082\n",
       "CJT_TYP_6              -1.342059\n",
       "CJT_TYP_5              -1.488315\n",
       "CJT_TYP_4              -1.575580\n",
       "CJT_TYP_3              -1.612491\n",
       "Name: mean, Length: 363, dtype: float64"
      ]
     },
     "execution_count": 177,
     "metadata": {},
     "output_type": "execute_result"
    }
   ],
   "source": [
    "non_target.describe().loc['mean'].sort_values(ascending=False)"
   ]
  },
  {
   "cell_type": "code",
   "execution_count": 173,
   "metadata": {},
   "outputs": [],
   "source": [
    "target_mean=target.describe()[infer_columns].loc['mean']\n",
    "non_target_mean=non_target.describe()[infer_columns].loc['mean']"
   ]
  },
  {
   "cell_type": "code",
   "execution_count": 174,
   "metadata": {},
   "outputs": [],
   "source": [
    "mean_df = pd.concat([target_mean, non_target_mean], axis=1)\n",
    "mean_df.columns = ['Target', 'Non-Target']"
   ]
  },
  {
   "cell_type": "code",
   "execution_count": 175,
   "metadata": {},
   "outputs": [
    {
     "data": {
      "text/plain": [
       "<matplotlib.axes._subplots.AxesSubplot at 0x7f38c8bdb490>"
      ]
     },
     "execution_count": 175,
     "metadata": {},
     "output_type": "execute_result"
    },
    {
     "data": {
      "image/png": "[encoded data removed]",
      "text/plain": [
       "<Figure size 432x288 with 1 Axes>"
      ]
     },
     "metadata": {
      "needs_background": "light"
     },
     "output_type": "display_data"
    }
   ],
   "source": [
    "mean_df.plot.barh()"
   ]
  },
  {
   "cell_type": "code",
   "execution_count": null,
   "metadata": {},
   "outputs": [],
   "source": []
  }
 ],
 "metadata": {
  "kernelspec": {
   "display_name": "Python 3",
   "language": "python",
   "name": "python3"
  },
  "language_info": {
   "codemirror_mode": {
    "name": "ipython",
    "version": 3
   },
   "file_extension": ".py",
   "mimetype": "text/x-python",
   "name": "python",
   "nbconvert_exporter": "python",
   "pygments_lexer": "ipython3",
   "version": "3.7.6"
  }
 },
 "nbformat": 4,
 "nbformat_minor": 4
}
